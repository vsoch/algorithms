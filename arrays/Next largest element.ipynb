{
 "cells": [
  {
   "cell_type": "markdown",
   "metadata": {},
   "source": [
    "# Next largest element\n",
    "\n",
    "Given an array A [ ] having distinct elements, the task is to find the next greater element for each element of the array in order of their appearance in the array. If no such element exists, output -1 \n",
    "\n",
    "Using https://www.geeksforgeeks.org/next-greater-element/"
   ]
  },
  {
   "cell_type": "code",
   "execution_count": 59,
   "metadata": {
    "collapsed": true
   },
   "outputs": [],
   "source": [
    "#Example:\n",
    "\n",
    "#input\n",
    "A = [1,3,2,4]\n",
    "\n",
    "#output\n",
    "out = [3,4,4,-1]"
   ]
  },
  {
   "cell_type": "markdown",
   "metadata": {},
   "source": [
    "## Solution 1: First solution\n",
    "\n",
    "iterate through the array $A$, using the index $i$. For each $i$, we find the index of the next-largest element $j$ (if it exists). To find $j$, we can scan starting at $i+1$ until $j$ is either outside the bounds of $A$ (in which case we know it doesn't exist), or we stop at some $j>i$ for which $A[j] \\ge A[i]$.\n",
    "\n",
    "Next, if $j$ was increased until $len(A) == j$, then we know the element at $i$ had no next largest element, so we append $-1$ to the output array. Otherwise, we have $j < len(A)$ and we know that $A[j]$ is the next largest element after $A[i]$, so we append $A[j]$ to the output.\n",
    "\n",
    "### Runtime analysis:\n",
    "\n",
    "We iterate over $n$ different values of $i$. For each $i$, we have to iterate over the $j$ indices from $i+1$ until potentially the end of $A$. On average for large $n$ there will be about $n/2$ values of $j$ to iterate over, so we find the complexity is $O(n^2)$."
   ]
  },
  {
   "cell_type": "code",
   "execution_count": 56,
   "metadata": {
    "collapsed": true
   },
   "outputs": [],
   "source": [
    "def next_largest_element(A):\n",
    "    output = []\n",
    "    for i in range(len(A)):\n",
    "        j = i+1\n",
    "        while j < len(A) and A[i] > A[j]:\n",
    "            j += 1\n",
    "        if j == len(A):\n",
    "            output.append(-1)\n",
    "            j = i+1\n",
    "        else:\n",
    "            output.append(A[j])\n",
    "    return output"
   ]
  },
  {
   "cell_type": "markdown",
   "metadata": {},
   "source": [
    "## Solution 2: Using a Stack"
   ]
  },
  {
   "cell_type": "code",
   "execution_count": null,
   "metadata": {
    "collapsed": true
   },
   "outputs": [],
   "source": []
  },
  {
   "cell_type": "code",
   "execution_count": null,
   "metadata": {
    "collapsed": true
   },
   "outputs": [],
   "source": []
  },
  {
   "cell_type": "code",
   "execution_count": null,
   "metadata": {
    "collapsed": true
   },
   "outputs": [],
   "source": []
  }
 ],
 "metadata": {
  "kernelspec": {
   "display_name": "Python 2",
   "language": "python",
   "name": "python2"
  },
  "language_info": {
   "codemirror_mode": {
    "name": "ipython",
    "version": 2
   },
   "file_extension": ".py",
   "mimetype": "text/x-python",
   "name": "python",
   "nbconvert_exporter": "python",
   "pygments_lexer": "ipython2",
   "version": "2.7.12"
  },
  "widgets": {
   "state": {},
   "version": "1.1.2"
  }
 },
 "nbformat": 4,
 "nbformat_minor": 0
}
